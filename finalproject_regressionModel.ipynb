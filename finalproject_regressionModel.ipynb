{
 "cells": [
  {
   "cell_type": "code",
   "execution_count": 128,
   "id": "6d5a4d9b-1fe5-4273-9dbe-3516f55d5d47",
   "metadata": {},
   "outputs": [],
   "source": [
    "import numpy as np"
   ]
  },
  {
   "cell_type": "code",
   "execution_count": 129,
   "id": "10c7f8e6-2572-4030-a8b0-13344c0cba52",
   "metadata": {},
   "outputs": [],
   "source": [
    "import pandas as pd"
   ]
  },
  {
   "cell_type": "code",
   "execution_count": 130,
   "id": "c622ea02-466a-4904-b6e8-ed4db5554c26",
   "metadata": {},
   "outputs": [],
   "source": [
    "import matplotlib.pyplot as plt"
   ]
  },
  {
   "cell_type": "code",
   "execution_count": 131,
   "id": "baa6bc9e-7b93-40de-b25b-fa9d7bac0c0b",
   "metadata": {},
   "outputs": [],
   "source": [
    "import seaborn as sns"
   ]
  },
  {
   "cell_type": "code",
   "execution_count": 13,
   "id": "c02e21c8-15dc-4531-aa33-8a1b425f6cea",
   "metadata": {},
   "outputs": [],
   "source": [
    "df = pd.read_csv('student_data_preprocessed.csv')"
   ]
  },
  {
   "cell_type": "code",
   "execution_count": 15,
   "id": "59ef929a-b8a0-44cf-9793-618336df1297",
   "metadata": {},
   "outputs": [
    {
     "data": {
      "text/plain": [
       "Age                    int64\n",
       "Gender                 int64\n",
       "ParentalEducation      int64\n",
       "StudyTimeWeekly      float64\n",
       "Absences               int64\n",
       "Tutoring               int64\n",
       "ParentalSupport        int64\n",
       "Extracurricular        int64\n",
       "Sports                 int64\n",
       "Music                  int64\n",
       "Volunteering           int64\n",
       "GPA                  float64\n",
       "Ethnicity_1             bool\n",
       "Ethnicity_2             bool\n",
       "Ethnicity_3             bool\n",
       "dtype: object"
      ]
     },
     "execution_count": 15,
     "metadata": {},
     "output_type": "execute_result"
    }
   ],
   "source": [
    "df.dtypes"
   ]
  },
  {
   "cell_type": "code",
   "execution_count": 17,
   "id": "2a48b8cc-96f8-4754-a6ef-9cd35f94620b",
   "metadata": {},
   "outputs": [
    {
     "data": {
      "text/html": [
       "<div>\n",
       "<style scoped>\n",
       "    .dataframe tbody tr th:only-of-type {\n",
       "        vertical-align: middle;\n",
       "    }\n",
       "\n",
       "    .dataframe tbody tr th {\n",
       "        vertical-align: top;\n",
       "    }\n",
       "\n",
       "    .dataframe thead th {\n",
       "        text-align: right;\n",
       "    }\n",
       "</style>\n",
       "<table border=\"1\" class=\"dataframe\">\n",
       "  <thead>\n",
       "    <tr style=\"text-align: right;\">\n",
       "      <th></th>\n",
       "      <th>Age</th>\n",
       "      <th>Gender</th>\n",
       "      <th>ParentalEducation</th>\n",
       "      <th>StudyTimeWeekly</th>\n",
       "      <th>Absences</th>\n",
       "      <th>Tutoring</th>\n",
       "      <th>ParentalSupport</th>\n",
       "      <th>Extracurricular</th>\n",
       "      <th>Sports</th>\n",
       "      <th>Music</th>\n",
       "      <th>Volunteering</th>\n",
       "      <th>GPA</th>\n",
       "      <th>Ethnicity_1</th>\n",
       "      <th>Ethnicity_2</th>\n",
       "      <th>Ethnicity_3</th>\n",
       "    </tr>\n",
       "  </thead>\n",
       "  <tbody>\n",
       "    <tr>\n",
       "      <th>0</th>\n",
       "      <td>17</td>\n",
       "      <td>1</td>\n",
       "      <td>2</td>\n",
       "      <td>19.833723</td>\n",
       "      <td>7</td>\n",
       "      <td>1</td>\n",
       "      <td>2</td>\n",
       "      <td>0</td>\n",
       "      <td>0</td>\n",
       "      <td>1</td>\n",
       "      <td>0</td>\n",
       "      <td>2.929196</td>\n",
       "      <td>False</td>\n",
       "      <td>False</td>\n",
       "      <td>False</td>\n",
       "    </tr>\n",
       "    <tr>\n",
       "      <th>1</th>\n",
       "      <td>18</td>\n",
       "      <td>0</td>\n",
       "      <td>1</td>\n",
       "      <td>15.408756</td>\n",
       "      <td>0</td>\n",
       "      <td>0</td>\n",
       "      <td>1</td>\n",
       "      <td>0</td>\n",
       "      <td>0</td>\n",
       "      <td>0</td>\n",
       "      <td>0</td>\n",
       "      <td>3.042915</td>\n",
       "      <td>False</td>\n",
       "      <td>False</td>\n",
       "      <td>False</td>\n",
       "    </tr>\n",
       "    <tr>\n",
       "      <th>2</th>\n",
       "      <td>15</td>\n",
       "      <td>0</td>\n",
       "      <td>3</td>\n",
       "      <td>4.210570</td>\n",
       "      <td>26</td>\n",
       "      <td>0</td>\n",
       "      <td>2</td>\n",
       "      <td>0</td>\n",
       "      <td>0</td>\n",
       "      <td>0</td>\n",
       "      <td>0</td>\n",
       "      <td>0.112602</td>\n",
       "      <td>False</td>\n",
       "      <td>True</td>\n",
       "      <td>False</td>\n",
       "    </tr>\n",
       "    <tr>\n",
       "      <th>3</th>\n",
       "      <td>17</td>\n",
       "      <td>1</td>\n",
       "      <td>3</td>\n",
       "      <td>10.028829</td>\n",
       "      <td>14</td>\n",
       "      <td>0</td>\n",
       "      <td>3</td>\n",
       "      <td>1</td>\n",
       "      <td>0</td>\n",
       "      <td>0</td>\n",
       "      <td>0</td>\n",
       "      <td>2.054218</td>\n",
       "      <td>False</td>\n",
       "      <td>False</td>\n",
       "      <td>False</td>\n",
       "    </tr>\n",
       "    <tr>\n",
       "      <th>4</th>\n",
       "      <td>17</td>\n",
       "      <td>1</td>\n",
       "      <td>2</td>\n",
       "      <td>4.672495</td>\n",
       "      <td>17</td>\n",
       "      <td>1</td>\n",
       "      <td>3</td>\n",
       "      <td>0</td>\n",
       "      <td>0</td>\n",
       "      <td>0</td>\n",
       "      <td>0</td>\n",
       "      <td>1.288061</td>\n",
       "      <td>False</td>\n",
       "      <td>False</td>\n",
       "      <td>False</td>\n",
       "    </tr>\n",
       "  </tbody>\n",
       "</table>\n",
       "</div>"
      ],
      "text/plain": [
       "   Age  Gender  ParentalEducation  StudyTimeWeekly  Absences  Tutoring  \\\n",
       "0   17       1                  2        19.833723         7         1   \n",
       "1   18       0                  1        15.408756         0         0   \n",
       "2   15       0                  3         4.210570        26         0   \n",
       "3   17       1                  3        10.028829        14         0   \n",
       "4   17       1                  2         4.672495        17         1   \n",
       "\n",
       "   ParentalSupport  Extracurricular  Sports  Music  Volunteering       GPA  \\\n",
       "0                2                0       0      1             0  2.929196   \n",
       "1                1                0       0      0             0  3.042915   \n",
       "2                2                0       0      0             0  0.112602   \n",
       "3                3                1       0      0             0  2.054218   \n",
       "4                3                0       0      0             0  1.288061   \n",
       "\n",
       "   Ethnicity_1  Ethnicity_2  Ethnicity_3  \n",
       "0        False        False        False  \n",
       "1        False        False        False  \n",
       "2        False         True        False  \n",
       "3        False        False        False  \n",
       "4        False        False        False  "
      ]
     },
     "execution_count": 17,
     "metadata": {},
     "output_type": "execute_result"
    }
   ],
   "source": [
    "df.head()"
   ]
  },
  {
   "cell_type": "code",
   "execution_count": 31,
   "id": "c1a266a1-0e5c-4fb7-93fa-7d86e667fe60",
   "metadata": {},
   "outputs": [],
   "source": [
    "from sklearn.model_selection import train_test_split\n",
    "from sklearn.linear_model import LinearRegression\n",
    "from sklearn.ensemble import RandomForestRegressor\n",
    "from sklearn.preprocessing import StandardScaler\n",
    "from sklearn.metrics import r2_score, mean_squared_error, mean_absolute_error"
   ]
  },
  {
   "cell_type": "code",
   "execution_count": 115,
   "id": "282aada4-bee9-41d0-a714-a215f98d409b",
   "metadata": {},
   "outputs": [],
   "source": [
    "X = df.drop(columns=['GPA'])\n",
    "y = df['GPA']"
   ]
  },
  {
   "cell_type": "code",
   "execution_count": 105,
   "id": "b3b916b1-3fab-4fa8-8b29-f4c2caa3245c",
   "metadata": {},
   "outputs": [],
   "source": [
    "scaler = StandardScaler()\n",
    "X_scaled = scaler.fit_transform(X)"
   ]
  },
  {
   "cell_type": "code",
   "execution_count": 107,
   "id": "e45fbe0d-e1b0-4678-a2d0-8d068a3c34be",
   "metadata": {},
   "outputs": [],
   "source": [
    "X_train, X_test, y_train, y_test = train_test_split(X_scaled, y, test_size=0.2, random_state=42)"
   ]
  },
  {
   "cell_type": "code",
   "execution_count": 109,
   "id": "164d7b4f-9506-4f19-b445-a9c3058bf9a0",
   "metadata": {},
   "outputs": [],
   "source": [
    "reg = {\n",
    "    \"Linear Regression\": LinearRegression(),\n",
    "    \"Random Forest Regressor\": RandomForestRegressor(random_state=42)}\n"
   ]
  },
  {
   "cell_type": "code",
   "execution_count": 140,
   "id": "d6dc9097-5cfb-43c4-ad99-c8a31066d04b",
   "metadata": {},
   "outputs": [],
   "source": [
    "rm = {}\n",
    "for name, model in reg.items():\n",
    "    model.fit(X_train, y_train)\n",
    "    y_pred = model.predict(X_test)\n",
    "    rm[name] = {\n",
    "        \"R^2 Score\": r2_score(y_test, y_pred) * 100,\n",
    "        \"Mean Squared Error\": mean_squared_error(y_test, y_pred),\n",
    "        \"Mean Absolute Error\": mean_absolute_error(y_test, y_pred)}"
   ]
  },
  {
   "cell_type": "code",
   "execution_count": 142,
   "id": "aeed90b7-9172-455a-ac46-13ca6bd5c4d0",
   "metadata": {},
   "outputs": [
    {
     "name": "stdout",
     "output_type": "stream",
     "text": [
      "                         R^2 Score  Mean Squared Error  Mean Absolute Error\n",
      "Linear Regression        95.327168            0.038641              0.15526\n",
      "Random Forest Regressor  92.732631            0.060096              0.18997\n"
     ]
    }
   ],
   "source": [
    "rm_df = pd.DataFrame(rm).T\n",
    "print(rm_df)"
   ]
  },
  {
   "cell_type": "markdown",
   "id": "b7887cc8-4074-4dbc-9974-239eccf1457a",
   "metadata": {},
   "source": [
    "# Evaluation"
   ]
  },
  {
   "cell_type": "markdown",
   "id": "04722ae4-4a72-4631-9155-af8df42681c3",
   "metadata": {},
   "source": [
    "After training regression models and having our target variable assigned as grade point average and with our academic and extracurricular activites included, we are getting high accuracy with both our trained models of linear regression and random forest regression. We can use this finding to help answer the initial question of if performance can be reliably predicted from our available data. When we look at mean squared error and mean absolute error, the percentage of error is low for both our trained regression models, which is what will satisfy our original question. From this we can understand that when we consider all of the available attributes given to us in the dataset, we can accurately conclude that we are able to predict the outcome of the student's gpa with the given data. These attributes are very significant to the outcome of a student's gpa and can be used to predict the performance of a student.  "
   ]
  }
 ],
 "metadata": {
  "kernelspec": {
   "display_name": "Python 3 (ipykernel)",
   "language": "python",
   "name": "python3"
  },
  "language_info": {
   "codemirror_mode": {
    "name": "ipython",
    "version": 3
   },
   "file_extension": ".py",
   "mimetype": "text/x-python",
   "name": "python",
   "nbconvert_exporter": "python",
   "pygments_lexer": "ipython3",
   "version": "3.12.4"
  }
 },
 "nbformat": 4,
 "nbformat_minor": 5
}
